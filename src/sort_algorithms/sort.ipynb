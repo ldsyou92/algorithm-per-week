{
 "cells": [
  {
   "cell_type": "markdown",
   "metadata": {},
   "source": [
    "# 排序算法"
   ]
  },
  {
   "cell_type": "markdown",
   "metadata": {},
   "source": [
    "## 1. 快速排序"
   ]
  },
  {
   "cell_type": "code",
   "execution_count": null,
   "metadata": {},
   "outputs": [],
   "source": [
    "要点：快排的要点是选定一个key，每一趟遍历都是让比key大的到key右边，比key小的到key左边。比如下面这个代码，内循环的第一个是要找到从右边数第一个比key"
   ]
  },
  {
   "cell_type": "code",
   "execution_count": 17,
   "metadata": {},
   "outputs": [],
   "source": [
    "def quick_sort(array, left, right):\n",
    "    if left >= right:\n",
    "        return \n",
    "    low = left\n",
    "    high = right\n",
    "    key = array[left]\n",
    "    while left < right:\n",
    "        # 从右边开始找到第一个比key小的，换到左边\n",
    "        while left < right and array[right] > key:\n",
    "            right -= 1\n",
    "        array[left] = array[right]\n",
    "        # 从左边开始找到第一个比key大的，换到右边\n",
    "        while left < right and array[left] <= key:\n",
    "            left += 1\n",
    "        array[right] = array[left]\n",
    "    array[right] = key\n",
    "    quick_sort(array, low, right - 1)\n",
    "    quick_sort(array, right + 1, high)\n",
    "    return array"
   ]
  },
  {
   "cell_type": "code",
   "execution_count": 16,
   "metadata": {},
   "outputs": [
    {
     "name": "stdout",
     "output_type": "stream",
     "text": [
      "6\n",
      "[2, 12, 34, 45, 56, 89]\n"
     ]
    }
   ],
   "source": [
    "def main():\n",
    "    array = [12, 45, 56, 2, 89,34]\n",
    "    print(len(array))\n",
    "    sorted_array = quick_sort(array,0, len(array)-1)\n",
    "    print(sorted_array)\n",
    "main()"
   ]
  },
  {
   "cell_type": "markdown",
   "metadata": {},
   "source": [
    " ## 归并排序"
   ]
  },
  {
   "cell_type": "markdown",
   "metadata": {},
   "source": [
    "归并排序的思路是分而治之，将序列拆成越来越小的子表，再对拆完的子表进行排序，然后利用递归将子表再合并成越来越大的有序序列。"
   ]
  },
  {
   "cell_type": "code",
   "execution_count": 39,
   "metadata": {},
   "outputs": [],
   "source": [
    "def merge(left, right):\n",
    "    i, j = 0, 0\n",
    "    result = []\n",
    "    while i < len(left) and j < len(right):\n",
    "        if left[i] <= right[j]:\n",
    "            result.append(left[i])\n",
    "            i += 1\n",
    "        else:\n",
    "            result.append(right[j])\n",
    "            j += 1\n",
    "    result += left[i:]\n",
    "    result += right[j:]\n",
    "    return result\n",
    "\n",
    "def merge_sort(lists):\n",
    "    if len(lists) <= 1:\n",
    "        return lists\n",
    "    num = int(len(lists)/2)\n",
    "    print(num)\n",
    "    left = merge_sort(lists[:num])\n",
    "    right = merge_sort(lists[num:])\n",
    "    return merge(left, right)"
   ]
  },
  {
   "cell_type": "code",
   "execution_count": 40,
   "metadata": {},
   "outputs": [
    {
     "name": "stdout",
     "output_type": "stream",
     "text": [
      "3\n",
      "1\n",
      "1\n",
      "2\n",
      "1\n",
      "1\n"
     ]
    },
    {
     "data": {
      "text/plain": [
       "[2, 12, 34, 45, 56, 89, 90]"
      ]
     },
     "execution_count": 40,
     "metadata": {},
     "output_type": "execute_result"
    }
   ],
   "source": [
    "array = [12, 45, 56, 2, 89, 34, 90]\n",
    "merge_sort(array)"
   ]
  },
  {
   "cell_type": "code",
   "execution_count": null,
   "metadata": {},
   "outputs": [],
   "source": []
  }
 ],
 "metadata": {
  "kernelspec": {
   "display_name": "py3",
   "language": "python",
   "name": "py3"
  },
  "language_info": {
   "codemirror_mode": {
    "name": "ipython",
    "version": 3
   },
   "file_extension": ".py",
   "mimetype": "text/x-python",
   "name": "python",
   "nbconvert_exporter": "python",
   "pygments_lexer": "ipython3",
   "version": "3.6.2"
  }
 },
 "nbformat": 4,
 "nbformat_minor": 2
}
